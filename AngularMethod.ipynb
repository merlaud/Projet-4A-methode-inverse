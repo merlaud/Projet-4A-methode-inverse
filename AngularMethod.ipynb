{
 "cells": [
  {
   "cell_type": "code",
   "execution_count": 106,
   "metadata": {},
   "outputs": [],
   "source": [
    "import PyMieScatt as ps\n",
    "import numpy as np\n",
    "import numpy.linalg as npl\n",
    "import scipy.linalg as spl\n",
    "import matplotlib.pyplot as plt\n",
    "from matplotlib.contour import QuadContourSet\n",
    "from PyMieScatt.Mie import Mie_ab\n",
    "from matplotlib.collections import LineCollection\n",
    "from scipy.ndimage import zoom\n",
    "from scipy.integrate import trapz\n",
    "from shapely import geometry\n",
    "from mpl_toolkits import mplot3d\n",
    "import scipy.sparse as sps\n",
    "from scipy.optimize import nnls"
   ]
  },
  {
   "cell_type": "markdown",
   "metadata": {},
   "source": [
    "# Angular method using optimization tools (NNLS)"
   ]
  },
  {
   "cell_type": "markdown",
   "metadata": {},
   "source": [
    "The main objective of this method is to retrieve the size of an unknown particle (in nm) knowing the wavelength of the monochromatic light and the refractive index of this particle. To do so, we need to solve the inverse problem : \n",
    "$$g = H\\Delta Q$$\n",
    "where $H$ is our kernel matrix (cf. next section), $g$ is a vector of scattering itensities computed with various scattering angles $\\theta_i$ for the unknown particle (experimental datas) and $\\Delta Q$ is the distribution (we will work with a lognormal distribution) we need to compute in order to approximate the real size of the unknown particle. "
   ]
  },
  {
   "cell_type": "markdown",
   "metadata": {},
   "source": [
    "### Particle features to retrieve\n",
    "Particle size : $x^* = 340nm$\n",
    "\n",
    "Wavelength of the light = $\\lambda = 400nm$\n",
    "\n",
    "Refractive index of the particle : $m = 1.33$ (water)"
   ]
  },
  {
   "cell_type": "code",
   "execution_count": 107,
   "metadata": {},
   "outputs": [],
   "source": [
    "d = 340 #nm\n",
    "wl = 400 #nm \n",
    "m = 1.33  #refractive index "
   ]
  },
  {
   "cell_type": "markdown",
   "metadata": {},
   "source": [
    "### Calculation of the kernel matrix H\n",
    "We compute H using the python librairy PieMyScatt. $$H[i,j] = I(m,\\lambda,x_j,\\theta_i)$$\n",
    "$I$ represents the scattering itensity of the monochromatic light (with a wavelength $\\lambda = 400 nm$ here on a particle. The kernel matrix includes itensities calculations for several sizes $x$ where $x = [x_0 ... x_N]$, with $N=100$ here and several scattering angles $\\theta$. \n",
    "\n",
    "For now, we choose $H \\in \\mathcal{M}_{N\\times N}$ (ie. same resolution for $\\theta$ and for $x$). \n",
    "\n",
    "We are working with a vector $x$ close to $x^*$. "
   ]
  },
  {
   "cell_type": "code",
   "execution_count": 108,
   "metadata": {},
   "outputs": [],
   "source": [
    "x = np.linspace(100,500,150)"
   ]
  },
  {
   "cell_type": "code",
   "execution_count": 109,
   "metadata": {},
   "outputs": [],
   "source": [
    "def kernel_ang(m,wl,x,resolution):\n",
    "    H = np.zeros((int(10/resolution+1),len(x)))\n",
    "    for i in range(len(x)): \n",
    "        theta,SL,SR,SU = ps.ScatteringFunction(m,wl,x[i],minAngle = 0, maxAngle = 10, angleMeasure = 'degrees',angularResolution = resolution)\n",
    "        H[:,i] = SL\n",
    "    return H\n",
    "reso = 0.1"
   ]
  },
  {
   "cell_type": "markdown",
   "metadata": {},
   "source": [
    "## Measurements matrix g\n",
    "\n",
    "The vector $g$ represents the experimental data. "
   ]
  },
  {
   "cell_type": "code",
   "execution_count": 110,
   "metadata": {},
   "outputs": [],
   "source": [
    "def lognormal(d,sigma):\n",
    "    d_size = len(d)\n",
    "    #print(d_size)\n",
    "    d_mean = (1/d_size)*sum(d)\n",
    "    q = np.zeros(d_size)\n",
    "    l = -(np.log(d)+np.log(d_mean))**2/2*sigma**2\n",
    "    for i in range(d_size):\n",
    "        q[i] = (1/(np.sqrt(2*np.pi)*d[i]*sigma))*np.exp(-(np.log(d[i])-np.log(d_mean))**2/(2*sigma**2))\n",
    "    return q"
   ]
  },
  {
   "cell_type": "code",
   "execution_count": 114,
   "metadata": {},
   "outputs": [],
   "source": [
    "def measure_ang(m,wl,x,resolution):\n",
    "    #B = ps.Mie_Lognormal(m,wl,sigma,dp_g,N,numberOfBins=2,returnDistribution=True)\n",
    "    #print(B[7],B[8])\n",
    "    #S = ps.SF_SD(m,wl,B[7],-B[8],minAngle = 0, maxAngle = 10, angleMeasure = 'degrees',angularResolution = 0.5)\n",
    "    #g = S[1]\n",
    "    theta,SL,SR,SU = ps.ScatteringFunction(m,wl,d,minAngle = 0, maxAngle = 10, angleMeasure = 'degrees',angularResolution = resolution)\n",
    "    g = SL\n",
    "    return g"
   ]
  },
  {
   "cell_type": "code",
   "execution_count": 115,
   "metadata": {
    "scrolled": true
   },
   "outputs": [
    {
     "data": {
      "image/png": "[encoded data removed]",
      "text/plain": [
       "<Figure size 432x288 with 1 Axes>"
      ]
     },
     "metadata": {
      "needs_background": "light"
     },
     "output_type": "display_data"
    },
    {
     "name": "stdout",
     "output_type": "stream",
     "text": [
      "Particle size retrieved : 338.9261744966443\n",
      "Real particle size : 340\n",
      "Residual 5.896130415688035e-07\n"
     ]
    }
   ],
   "source": [
    "def PSD_angular(m,wl,x,resolution):\n",
    "    H = kernel_ang(m,wl,x,resolution)\n",
    "    g = measure_ang(m,wl,d,resolution)\n",
    "    solution,res = nnls(H,g)\n",
    "    max_solution = np.max(solution)\n",
    "    x_max = x[int(np.argwhere(solution==max_solution))]\n",
    "     \n",
    "    plt.plot(x,solution)\n",
    "    plt.scatter(x_max,max_solution,c = 'red',label=\"PSD max\")\n",
    "    plt.ylabel(\"PSD\")\n",
    "    plt.xlabel(\"Size x\")\n",
    "    plt.legend()\n",
    "    plt.title(\"PSD for particle size using an angular method\")\n",
    "    plt.show()\n",
    "    print(\"Particle size retrieved :\",x_max)\n",
    "    print(\"Real particle size :\",d)\n",
    "    print(\"Residual\",res)\n",
    "\n",
    "PSD_angular(m,wl,x,0.5)"
   ]
  },
  {
   "cell_type": "markdown",
   "metadata": {},
   "source": [
    "### Study of the link between the discretization of theta and the residual"
   ]
  },
  {
   "cell_type": "code",
   "execution_count": 113,
   "metadata": {},
   "outputs": [
    {
     "ename": "TypeError",
     "evalue": "measure_ang() missing 1 required positional argument: 'dp_g'",
     "output_type": "error",
     "traceback": [
      "\u001b[1;31m---------------------------------------------------------------------------\u001b[0m",
      "\u001b[1;31mTypeError\u001b[0m                                 Traceback (most recent call last)",
      "\u001b[1;32m<ipython-input-113-54882a2f43a9>\u001b[0m in \u001b[0;36m<module>\u001b[1;34m\u001b[0m\n\u001b[0;32m      6\u001b[0m \u001b[1;32mfor\u001b[0m \u001b[0mk\u001b[0m \u001b[1;32min\u001b[0m \u001b[0mrange\u001b[0m\u001b[1;33m(\u001b[0m\u001b[0mlen\u001b[0m\u001b[1;33m(\u001b[0m\u001b[0mres\u001b[0m\u001b[1;33m)\u001b[0m\u001b[1;33m)\u001b[0m\u001b[1;33m:\u001b[0m\u001b[1;33m\u001b[0m\u001b[1;33m\u001b[0m\u001b[0m\n\u001b[0;32m      7\u001b[0m     \u001b[0mH_d\u001b[0m\u001b[1;33m.\u001b[0m\u001b[0mappend\u001b[0m\u001b[1;33m(\u001b[0m\u001b[0mkernel_ang\u001b[0m\u001b[1;33m(\u001b[0m\u001b[0mm\u001b[0m\u001b[1;33m,\u001b[0m\u001b[0mwl\u001b[0m\u001b[1;33m,\u001b[0m\u001b[0mx\u001b[0m\u001b[1;33m,\u001b[0m\u001b[0mres\u001b[0m\u001b[1;33m[\u001b[0m\u001b[0mk\u001b[0m\u001b[1;33m]\u001b[0m\u001b[1;33m)\u001b[0m\u001b[1;33m)\u001b[0m\u001b[1;33m\u001b[0m\u001b[1;33m\u001b[0m\u001b[0m\n\u001b[1;32m----> 8\u001b[1;33m     \u001b[0mg_d\u001b[0m\u001b[1;33m.\u001b[0m\u001b[0mappend\u001b[0m\u001b[1;33m(\u001b[0m\u001b[0mmeasure_ang\u001b[0m\u001b[1;33m(\u001b[0m\u001b[0mm\u001b[0m\u001b[1;33m,\u001b[0m\u001b[0mwl\u001b[0m\u001b[1;33m,\u001b[0m\u001b[0md\u001b[0m\u001b[1;33m,\u001b[0m\u001b[0mres\u001b[0m\u001b[1;33m[\u001b[0m\u001b[0mk\u001b[0m\u001b[1;33m]\u001b[0m\u001b[1;33m)\u001b[0m\u001b[1;33m)\u001b[0m\u001b[1;33m\u001b[0m\u001b[1;33m\u001b[0m\u001b[0m\n\u001b[0m\u001b[0;32m      9\u001b[0m     \u001b[0ms\u001b[0m\u001b[1;33m,\u001b[0m\u001b[0mr\u001b[0m \u001b[1;33m=\u001b[0m \u001b[0mnnls\u001b[0m\u001b[1;33m(\u001b[0m\u001b[0mH_d\u001b[0m\u001b[1;33m[\u001b[0m\u001b[1;33m-\u001b[0m\u001b[1;36m1\u001b[0m\u001b[1;33m]\u001b[0m\u001b[1;33m,\u001b[0m\u001b[0mg_d\u001b[0m\u001b[1;33m[\u001b[0m\u001b[1;33m-\u001b[0m\u001b[1;36m1\u001b[0m\u001b[1;33m]\u001b[0m\u001b[1;33m)\u001b[0m\u001b[1;33m\u001b[0m\u001b[1;33m\u001b[0m\u001b[0m\n\u001b[0;32m     10\u001b[0m     \u001b[0msol_d\u001b[0m\u001b[1;33m.\u001b[0m\u001b[0mappend\u001b[0m\u001b[1;33m(\u001b[0m\u001b[0ms\u001b[0m\u001b[1;33m)\u001b[0m\u001b[1;33m\u001b[0m\u001b[1;33m\u001b[0m\u001b[0m\n",
      "\u001b[1;31mTypeError\u001b[0m: measure_ang() missing 1 required positional argument: 'dp_g'"
     ]
    }
   ],
   "source": [
    "res = np.linspace(0.05,5,100)\n",
    "H_d = []\n",
    "g_d = []\n",
    "sol_d = []\n",
    "residual = []\n",
    "for k in range(len(res)):\n",
    "    H_d.append(kernel_ang(m,wl,x,res[k]))\n",
    "    g_d.append(measure_ang(m,wl,d,res[k]))\n",
    "    s,r = nnls(H_d[-1],g_d[-1])\n",
    "    sol_d.append(s)\n",
    "    residual.append(r)"
   ]
  },
  {
   "cell_type": "code",
   "execution_count": null,
   "metadata": {},
   "outputs": [],
   "source": [
    "plt.plot(res,residual)\n",
    "plt.title(\"Evolution of the residual depending on the discretization of $\\\\theta$\")\n",
    "plt.xlabel(\"Resolution of $\\\\theta$\")\n",
    "plt.ylabel(\"Residuals\")\n",
    "plt.show()"
   ]
  },
  {
   "cell_type": "markdown",
   "metadata": {},
   "source": [
    "### Effect of the choice of the wavelength on the results"
   ]
  },
  {
   "cell_type": "code",
   "execution_count": null,
   "metadata": {},
   "outputs": [],
   "source": [
    "w = np.linspace(400,800,10)\n",
    "for k in range(len(w)):\n",
    "    PSD_angular(m,w[k],x,0.1)"
   ]
  },
  {
   "cell_type": "markdown",
   "metadata": {},
   "source": [
    "## Spectral method using optimization tools (NNLS)\n",
    "We will use the same algorithms but we will discretize $H$ with another method : \n",
    "$$H[i,j]=I(m,x_j,\\lambda_i,\\theta)$$ with a $\\theta$ constant that we will take between 10 and 20 degree."
   ]
  },
  {
   "cell_type": "code",
   "execution_count": null,
   "metadata": {},
   "outputs": [],
   "source": [
    "x_sp = np.linspace(100,500,100)"
   ]
  },
  {
   "cell_type": "code",
   "execution_count": null,
   "metadata": {},
   "outputs": [],
   "source": [
    "def kernel_sp(m,x,N,theta):    #N discretization of lambda (always between 400 and 800nm)\n",
    "    lamb = np.linspace(400,800,N)\n",
    "    H_sp = np.zeros((len(lamb),len(x)))\n",
    "    n1,n2 = np.shape(H_sp)\n",
    "    for i in range(n1):\n",
    "        for j in range(n2):\n",
    "            S1,S2 = ps.MieS1S2(m,np.pi*x[j]/lamb[i],np.cos(theta))\n",
    "            H_sp[i,j] = np.real(np.conjugate(S1)*S1)\n",
    "    return H_sp"
   ]
  },
  {
   "cell_type": "code",
   "execution_count": null,
   "metadata": {},
   "outputs": [],
   "source": [
    "def measure_sp(m,x,N,theta):\n",
    "    lamb = np.linspace(400,800,N)\n",
    "    g_sp = np.zeros(len(lamb))\n",
    "    for k in range(len(lamb)):\n",
    "        S1,S2 = ps.MieS1S2(m,np.pi*d/lamb[k],np.cos(theta))\n",
    "        g_sp[k] = np.real(np.conjugate(S1)*S1)\n",
    "    return g_sp"
   ]
  },
  {
   "cell_type": "code",
   "execution_count": null,
   "metadata": {},
   "outputs": [],
   "source": [
    "def PSD_spectral(m,x,N,theta):\n",
    "    H_sp = kernel_sp(m,x,N,theta)\n",
    "    g_sp = measure_sp(m,x,N,theta)\n",
    "    solution_sp,res_sp = nnls(H_sp,g_sp)\n",
    "    max_sol_sp = np.max(solution_sp)\n",
    "    x_max_sp = x[int(np.argwhere(solution_sp==max_sol_sp))]\n",
    "    plt.plot(x_sp,solution_sp)\n",
    "    plt.scatter(x_max_sp,max_sol_sp,c='red',label=\"PSD max\")\n",
    "    plt.ylabel(\"PSD\")\n",
    "    plt.xlabel(\"Size x\")\n",
    "    plt.legend()\n",
    "    plt.title(\"PSD for particle size using a spectral method\")\n",
    "    plt.show()\n",
    "    print(\"Particle size retrieved :\",x_max_sp)\n",
    "    print(\"Real particle size :\",d)\n",
    "    print(\"Residual\",res_sp)"
   ]
  },
  {
   "cell_type": "markdown",
   "metadata": {},
   "source": [
    "### Study of the link between the residuals and the discretization of $\\lambda$"
   ]
  },
  {
   "cell_type": "code",
   "execution_count": null,
   "metadata": {},
   "outputs": [],
   "source": [
    "disc = np.linspace(5,50,45)\n",
    "H_spd = []\n",
    "g_spd = []\n",
    "sol_spd = []\n",
    "residual_sp = []\n",
    "theta_sp = 10\n",
    "for k in range(len(disc)):\n",
    "    H_spd.append(kernel_sp(m,x_sp,int(disc[k]),theta_sp))\n",
    "    g_spd.append(measure_sp(m,d,int(disc[k]),theta_sp))\n",
    "    s,r = nnls(H_spd[-1],g_spd[-1])\n",
    "    sol_spd.append(s)\n",
    "    residual_sp.append(r)"
   ]
  },
  {
   "cell_type": "code",
   "execution_count": null,
   "metadata": {},
   "outputs": [],
   "source": [
    "print(residual_sp)\n",
    "plt.plot(disc,residual_sp)\n",
    "plt.title(\"Evolution of the residual depending on the discretization of $\\\\lambda$\")\n",
    "plt.xlabel(\"Resolution of $\\\\lambda$\")\n",
    "plt.ylabel(\"Residuals\")\n",
    "plt.show()"
   ]
  }
 ],
 "metadata": {
  "kernelspec": {
   "display_name": "Python 3",
   "language": "python",
   "name": "python3"
  },
  "language_info": {
   "codemirror_mode": {
    "name": "ipython",
    "version": 3
   },
   "file_extension": ".py",
   "mimetype": "text/x-python",
   "name": "python",
   "nbconvert_exporter": "python",
   "pygments_lexer": "ipython3",
   "version": "3.7.6"
  }
 },
 "nbformat": 4,
 "nbformat_minor": 4
}
